{
 "cells": [
  {
   "cell_type": "markdown",
   "id": "0ef5c8c2",
   "metadata": {},
   "source": [
    "## Objective:\n",
    "**Scrape the products given on the website [SlickDeals](https://slickdeals.net/) and create a database of the items with the discount. This way, we can monitor which products have the best deals. The Database includes for each product:**\n",
    "- Title\n",
    "- Photo\n",
    "- Updated date\n",
    "- Discounted price\n",
    "- Original price\n",
    "- Discount amount\n",
    "- Seller\n",
    "- Number of comments\n",
    "- Deal score\n",
    "- url of the product"
   ]
  },
  {
   "cell_type": "markdown",
   "id": "15d53874",
   "metadata": {},
   "source": [
    "## The steps we follow:\n",
    "- Scrape the products given at [SlickDeals](https://slickdeals.net/)\n",
    "- For each product we get the above-mentioned info\n",
    "- We filter for the discounted products only\n",
    "- We calculate the discout percentage\n",
    "- We store the data into CSV file in the following format\n",
    "\n",
    "```\n",
    "title,photo,update_date,discount_price,original_price,discount_amount,seller,comments_number,deal_score,url\n",
    "2-Piece Nautica Men's Modern Fit Suits,https://static.slickdealscdn.com/attachment/1/6/7/9/8/1/2/200x200/13859936.thumb,23 minutes ago,$90,$395,77%,Macy's,2 Comments,+17,https://slickdeals.net/f/16766321-2-piece-nautica-men-s-modern-fit-suits-bi-stretch-stretch-cotton-solid-cotton-linen-blend-various-90-free-shipping?src=frontpage\n",
    "```"
   ]
  },
  {
   "cell_type": "markdown",
   "id": "d027c371",
   "metadata": {},
   "source": [
    "## Tools we use:\n",
    "- `requests` to download the page\n",
    "- `BeautifulSoup` to parse the html\n",
    "- `pandas` to store into CSV"
   ]
  },
  {
   "cell_type": "code",
   "execution_count": 1,
   "id": "0d1a680f",
   "metadata": {},
   "outputs": [],
   "source": [
    "from bs4 import BeautifulSoup\n",
    "import requests\n",
    "import pandas as pd"
   ]
  },
  {
   "cell_type": "code",
   "execution_count": 2,
   "id": "3fc2101e",
   "metadata": {},
   "outputs": [],
   "source": [
    "html_text=requests.get('https://slickdeals.net/').text"
   ]
  },
  {
   "cell_type": "code",
   "execution_count": 3,
   "id": "f8dd8a22",
   "metadata": {},
   "outputs": [],
   "source": [
    "soup=BeautifulSoup(html_text,'lxml')"
   ]
  },
  {
   "cell_type": "code",
   "execution_count": 4,
   "id": "8b1d7da3",
   "metadata": {},
   "outputs": [],
   "source": [
    "products=pd.DataFrame(columns=['title','photo','update_date','discount_price','original_price','discount_amount','seller','comments_number','deal_score','url'])\n",
    "items=soup.find_all('li',class_='frontpageGrid__feedItem')\n",
    "for item in items:\n",
    "    # skip the unformatted products, sucha as banner, ads, ...\n",
    "    try:\n",
    "        #discount calculation\n",
    "        discounted_price=item.find('span',class_='dealCard__price').text\n",
    "        original_price=item.find('span',class_='dealCard__originalPrice').text\n",
    "        op_num=float(original_price[1:])\n",
    "        if op_num=='':\n",
    "            continue\n",
    "        dp_num=float(discounted_price[1:])\n",
    "        discount=f\"{int(100*(op_num-dp_num)/op_num)}%\"\n",
    "\n",
    "        # info\n",
    "        title=item.find('a',class_='dealCard__title').text.split('&')[0]\n",
    "        photo=item.find('div',class_='dealCard__content').img['src']\n",
    "        updated_at=item.find('header',class_='dealCard__header').find('span',class_='dealCard__statusTimestamp').text\n",
    "        seller=item.find('a',class_='dealCard__storeLink').text\n",
    "        url=f\"https://slickdeals.net{item.div.a['href']}\"\n",
    "\n",
    "        # more details\n",
    "        item_url_html=requests.get(url).text\n",
    "        item_soup=BeautifulSoup(item_url_html,'lxml')\n",
    "\n",
    "        comments_count=item_soup.find('div',class_='scorepos').label.text\n",
    "        deal_score=item_soup.find('span',class_='dealScoreBox').find_all('span')[0].text + item_soup.find('span',class_='dealScoreBox').find_all('span')[1].text\n",
    "        product=pd.DataFrame({'title':[title],\n",
    "                              'photo':[photo],\n",
    "                              'update_date':[updated_at],\n",
    "                              'discount_price':[discounted_price],\n",
    "                              'original_price':[original_price],\n",
    "                              'discount_amount':[discount],\n",
    "                              'seller':[seller],\n",
    "                              'comments_number':[comments_count],\n",
    "                              'deal_score':[deal_score],\n",
    "                              'url':[url]})\n",
    "        products=pd.concat([products,product])\n",
    "    except:\n",
    "        pass\n",
    "products.reset_index(drop=True,inplace=True)"
   ]
  },
  {
   "cell_type": "code",
   "execution_count": 5,
   "id": "40f6bb7c",
   "metadata": {},
   "outputs": [],
   "source": [
    "products.to_csv('products.csv',index=False)"
   ]
  }
 ],
 "metadata": {
  "kernelspec": {
   "display_name": "Python 3 (ipykernel)",
   "language": "python",
   "name": "python3"
  },
  "language_info": {
   "codemirror_mode": {
    "name": "ipython",
    "version": 3
   },
   "file_extension": ".py",
   "mimetype": "text/x-python",
   "name": "python",
   "nbconvert_exporter": "python",
   "pygments_lexer": "ipython3",
   "version": "3.9.13"
  }
 },
 "nbformat": 4,
 "nbformat_minor": 5
}
